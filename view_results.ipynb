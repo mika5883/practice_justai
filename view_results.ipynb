{
 "cells": [
  {
   "cell_type": "code",
   "execution_count": 1,
   "metadata": {},
   "outputs": [],
   "source": [
    "import pandas as pd\n",
    "import json"
   ]
  },
  {
   "cell_type": "code",
   "execution_count": 2,
   "metadata": {},
   "outputs": [],
   "source": [
    "instructions = json.loads(open('instructions.json').read())"
   ]
  },
  {
   "cell_type": "code",
   "execution_count": 10,
   "metadata": {},
   "outputs": [],
   "source": [
    "from openpyxl import Workbook"
   ]
  },
  {
   "cell_type": "code",
   "execution_count": 36,
   "metadata": {},
   "outputs": [],
   "source": [
    "def flatten(val):\n",
    "    return [val['instruction'], val['type'], val['Gigachat']['Response'], val['Gigachat']['Eval'], val['Gigachat']['Comment'], \\\n",
    "            val['Yandex_GPT']['Response'], val['Yandex_GPT']['Eval'], val['Yandex_GPT']['Comment']]"
   ]
  },
  {
   "cell_type": "code",
   "execution_count": 35,
   "metadata": {},
   "outputs": [],
   "source": [
    "wb = Workbook()\n",
    "ws = wb.active\n",
    "\n",
    "fr = [['Instruction','Type', 'Gigachat_default', 'YaGPT_temperature0.5_maxTokens=4096'],\n",
    "      ['Instruction','Type', ['answer', 'is_correct', 'comment']]]\n",
    "\n",
    "\n",
    "ws.merge_cells('A1:A2')\n",
    "ws.merge_cells('B1:B2')\n",
    "ws.merge_cells('C1:E1')\n",
    "ws.merge_cells('F1:H1')\n",
    "\n",
    "# for row in first_rows:\n",
    "#     ws.append(row)\n",
    "ws['A1'] = 'instruction'\n",
    "ws['B1'] = 'type'\n",
    "ws['C1'] = 'Gigachat_default'\n",
    "ws['F1'] = 'YaGPT_temperature0.5_maxTokens=4096'\n",
    "ws['C2'], ws['D2'], ws['E2'] = fr[1][2][0], fr[1][2][1], fr[1][2][2]\n",
    "ws['F2'], ws['G2'], ws['H2'] = fr[1][2][0], fr[1][2][1], fr[1][2][2]\n",
    "\n",
    "for k, v in instructions.items():\n",
    "    ws.append(flatten(v))\n",
    "\n",
    "wb.save('GPT_tests.xlsx')"
   ]
  }
 ],
 "metadata": {
  "kernelspec": {
   "display_name": "Python 3",
   "language": "python",
   "name": "python3"
  },
  "language_info": {
   "codemirror_mode": {
    "name": "ipython",
    "version": 3
   },
   "file_extension": ".py",
   "mimetype": "text/x-python",
   "name": "python",
   "nbconvert_exporter": "python",
   "pygments_lexer": "ipython3",
   "version": "3.11.5"
  }
 },
 "nbformat": 4,
 "nbformat_minor": 2
}
