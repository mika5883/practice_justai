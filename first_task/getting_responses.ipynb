{
 "cells": [
  {
   "cell_type": "code",
   "execution_count": 1,
   "metadata": {},
   "outputs": [],
   "source": [
    "import json\n",
    "from help_funcs import *"
   ]
  },
  {
   "cell_type": "code",
   "execution_count": 2,
   "metadata": {},
   "outputs": [],
   "source": [
    "\n",
    "yan_tok = IAMTOKEN\n",
    "giga_tok = GIGATOK"
   ]
  },
  {
   "cell_type": "code",
   "execution_count": 5,
   "metadata": {},
   "outputs": [
    {
     "name": "stdout",
     "output_type": "stream",
     "text": [
      "{'Response': None, 'Eval': None, 'Comment': None}\n"
     ]
    }
   ],
   "source": [
    "print(instructions['43']['Yandex_GPT'])"
   ]
  },
  {
   "cell_type": "code",
   "execution_count": 6,
   "metadata": {},
   "outputs": [],
   "source": [
    "from time import sleep"
   ]
  },
  {
   "cell_type": "code",
   "execution_count": 8,
   "metadata": {},
   "outputs": [],
   "source": [
    "yand_responses_dict = {}"
   ]
  },
  {
   "cell_type": "code",
   "execution_count": 9,
   "metadata": {},
   "outputs": [],
   "source": [
    "for k in instructions.keys():\n",
    "    if instructions[k]['Yandex_GPT']['Response'] != None:\n",
    "        continue\n",
    "    instruction = instructions[k]['instruction']\n",
    "    response = make_request_yandex(instruction=instruction).json()\n",
    "    yand_responses_dict[k] = response\n",
    "    try:\n",
    "        instructions[k]['Yandex_GPT']['Response'] = response['result']['alternatives'][0]['text']\n",
    "    except:\n",
    "        print('There was an error')\n",
    "        sleep(3)\n",
    "        continue\n",
    "        #instructions[k]['Yandex_GPT']['Response'] = response['error']['message']\n",
    "    sleep(3)\n",
    "    \n"
   ]
  },
  {
   "cell_type": "code",
   "execution_count": 12,
   "metadata": {},
   "outputs": [],
   "source": [
    "with open('instructions.json', mode='w', encoding='utf-8') as w:\n",
    "    w.write(json.dumps(instructions))"
   ]
  },
  {
   "cell_type": "code",
   "execution_count": 24,
   "metadata": {},
   "outputs": [],
   "source": [
    "gigachat_response_dict = {}"
   ]
  },
  {
   "cell_type": "code",
   "execution_count": 26,
   "metadata": {},
   "outputs": [],
   "source": [
    "for k in instructions.keys():\n",
    "    if instructions[k]['Gigachat']['Response'] != None:\n",
    "        continue\n",
    "    instruction = instructions[k]['instruction']\n",
    "    response = make_request_gigachat(instruction=instruction).json()\n",
    "    gigachat_response_dict[k] = response    \n",
    "    instructions[k]['Gigachat']['Response'] = response['choices'][0]['message']['content']\n",
    "    sleep(1)\n",
    "    \n"
   ]
  },
  {
   "cell_type": "code",
   "execution_count": 29,
   "metadata": {},
   "outputs": [],
   "source": [
    "with open('instructions.json', mode='w', encoding='utf-8') as w:\n",
    "    w.write(json.dumps(instructions))"
   ]
  },
  {
   "cell_type": "markdown",
   "metadata": {},
   "source": []
  }
 ],
 "metadata": {
  "kernelspec": {
   "display_name": "Python 3",
   "language": "python",
   "name": "python3"
  },
  "language_info": {
   "codemirror_mode": {
    "name": "ipython",
    "version": 3
   },
   "file_extension": ".py",
   "mimetype": "text/x-python",
   "name": "python",
   "nbconvert_exporter": "python",
   "pygments_lexer": "ipython3",
   "version": "3.11.5"
  }
 },
 "nbformat": 4,
 "nbformat_minor": 2
}
