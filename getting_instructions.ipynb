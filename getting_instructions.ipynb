{
 "cells": [
  {
   "cell_type": "code",
   "execution_count": 15,
   "metadata": {},
   "outputs": [],
   "source": [
    "import openpyxl"
   ]
  },
  {
   "cell_type": "code",
   "execution_count": 16,
   "metadata": {},
   "outputs": [],
   "source": [
    "from openpyxl import Workbook, load_workbook"
   ]
  },
  {
   "cell_type": "code",
   "execution_count": 17,
   "metadata": {},
   "outputs": [],
   "source": [
    "wb = load_workbook(filename='JustGPT-tests.xlsx')"
   ]
  },
  {
   "cell_type": "code",
   "execution_count": 18,
   "metadata": {},
   "outputs": [],
   "source": [
    "instructions = {}\n",
    "counter = 1\n",
    "for i in wb:\n",
    "    for r in i.iter_rows(min_row=3, ):\n",
    "        if r[0].value == None:\n",
    "            continue\n",
    "        else:\n",
    "            instructions[str(counter)] = {'instruction' : None, 'type': None, 'Yandex_GPT' : {'Response': None, 'Eval' : None, 'Comment' : None}, \\\n",
    "                                          'Gigachat' : {'Response': None, 'Eval' : 0, 'Comment' : None}}\n",
    "            instructions[str(counter)]['instruction'] = r[0].value\n",
    "            instructions[str(counter)]['type'] = r[1].value \n",
    "            counter += 1\n"
   ]
  },
  {
   "cell_type": "code",
   "execution_count": 19,
   "metadata": {},
   "outputs": [],
   "source": [
    "import json\n",
    "with open('instructions.json', mode='w', encoding='utf-8') as f:\n",
    "    f.write(json.dumps(instructions))"
   ]
  },
  {
   "cell_type": "code",
   "execution_count": null,
   "metadata": {},
   "outputs": [],
   "source": []
  }
 ],
 "metadata": {
  "kernelspec": {
   "display_name": "Python 3",
   "language": "python",
   "name": "python3"
  },
  "language_info": {
   "codemirror_mode": {
    "name": "ipython",
    "version": 3
   },
   "file_extension": ".py",
   "mimetype": "text/x-python",
   "name": "python",
   "nbconvert_exporter": "python",
   "pygments_lexer": "ipython3",
   "version": "3.11.5"
  }
 },
 "nbformat": 4,
 "nbformat_minor": 2
}
